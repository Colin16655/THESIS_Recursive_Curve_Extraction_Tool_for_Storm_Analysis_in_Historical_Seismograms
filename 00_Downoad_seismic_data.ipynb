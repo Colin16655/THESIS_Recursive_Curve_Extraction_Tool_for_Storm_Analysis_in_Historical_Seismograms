{
 "cells": [
  {
   "cell_type": "markdown",
   "id": "80b4c121",
   "metadata": {},
   "source": [
    "This notebook should not be necessary for the workshop but shows you how to re-download the data used in the practical."
   ]
  },
  {
   "cell_type": "code",
   "execution_count": 1,
   "id": "1d19231e",
   "metadata": {},
   "outputs": [
    {
     "name": "stderr",
     "output_type": "stream",
     "text": [
      "C:\\Users\\Colin\\AppData\\Local\\Temp\\ipykernel_10076\\782343133.py:1: DeprecationWarning: Importing display from IPython.core.display is deprecated since IPython 7.14, please import from IPython display\n",
      "  from IPython.core.display import display, HTML\n"
     ]
    },
    {
     "data": {
      "text/html": [
       "<style>.container { width:80% !important; }</style>"
      ],
      "text/plain": [
       "<IPython.core.display.HTML object>"
      ]
     },
     "metadata": {},
     "output_type": "display_data"
    }
   ],
   "source": [
    "from IPython.core.display import display, HTML\n",
    "display(HTML(\"<style>.container { width:80% !important; }</style>\")) \n",
    "from IPython.core.interactiveshell import InteractiveShell\n",
    "InteractiveShell.ast_node_interactivity = \"last_expr\"\n",
    "import warnings\n",
    "warnings.filterwarnings('ignore')\n",
    "\n",
    "from obspy.clients.fdsn.mass_downloader import RectangularDomain, \\\n",
    "    Restrictions, MassDownloader\n",
    "from obspy import UTCDateTime\n",
    "import os\n"
   ]
  },
  {
   "cell_type": "markdown",
   "id": "fe9d381e",
   "metadata": {},
   "source": [
    "# Edit the station information and, if necessary, the providers"
   ]
  },
  {
   "cell_type": "code",
   "execution_count": 2,
   "id": "fa702de3",
   "metadata": {},
   "outputs": [],
   "source": [
    "sta = \"UCC\" ## If necessary, look for other stations at https://ds.iris.edu/gmap/\n",
    "net = \"BE\"\n",
    "cha = \"HH*\"\n",
    "start = UTCDateTime(2024, 1, 1)\n",
    "end = UTCDateTime(2024, 1, 2)\n",
    "clients = [\"ORFEUS\",\"IRIS\"]"
   ]
  },
  {
   "cell_type": "markdown",
   "id": "89978393",
   "metadata": {},
   "source": [
    "# Change the rectangular domain around your station to match the station of your choice"
   ]
  },
  {
   "cell_type": "code",
   "execution_count": 3,
   "id": "91d3fbb5",
   "metadata": {},
   "outputs": [],
   "source": [
    "domain = RectangularDomain(minlatitude=50, maxlatitude=52,\n",
    "                           minlongitude=3, maxlongitude=6)\n",
    "\n",
    "restrictions = Restrictions(\n",
    "    starttime=start,\n",
    "    endtime=end,\n",
    "    chunklength_in_sec=86400,\n",
    "    network=net, station=sta, location=\"*\", channel=cha,\n",
    "    reject_channels_with_gaps=False,\n",
    "    minimum_length=0.0,\n",
    "    minimum_interstation_distance_in_m=100.0)"
   ]
  },
  {
   "cell_type": "code",
   "execution_count": 4,
   "id": "8f7ee77f",
   "metadata": {},
   "outputs": [],
   "source": [
    "if not os.path.isdir(\"DATA/MSEED\"):\n",
    "    os.makedirs(\"DATA/MSEED\")"
   ]
  },
  {
   "cell_type": "markdown",
   "id": "120ffbb6",
   "metadata": {},
   "source": [
    "# Download the stations"
   ]
  },
  {
   "cell_type": "code",
   "execution_count": 5,
   "id": "9a3f5118",
   "metadata": {
    "tags": []
   },
   "outputs": [
    {
     "name": "stderr",
     "output_type": "stream",
     "text": [
      "[2025-02-07 10:53:23,285] - obspy.clients.fdsn.mass_downloader - INFO: Initializing FDSN client(s) for ORFEUS, IRIS.\n",
      "[2025-02-07 10:53:24,511] - obspy.clients.fdsn.mass_downloader - INFO: Successfully initialized 2 client(s): ORFEUS, IRIS.\n",
      "[2025-02-07 10:53:24,515] - obspy.clients.fdsn.mass_downloader - INFO: Total acquired or preexisting stations: 0\n",
      "[2025-02-07 10:53:24,517] - obspy.clients.fdsn.mass_downloader - INFO: Client 'ORFEUS' - Requesting unreliable availability.\n",
      "[2025-02-07 10:53:24,882] - obspy.clients.fdsn.mass_downloader - INFO: Client 'ORFEUS' - Successfully requested availability (0.36 seconds)\n",
      "[2025-02-07 10:53:24,885] - obspy.clients.fdsn.mass_downloader - INFO: Client 'ORFEUS' - Found 1 stations (3 channels).\n",
      "[2025-02-07 10:53:24,887] - obspy.clients.fdsn.mass_downloader - INFO: Client 'ORFEUS' - Will attempt to download data from 1 stations.\n",
      "[2025-02-07 10:53:24,891] - obspy.clients.fdsn.mass_downloader - INFO: Client 'ORFEUS' - Status for 3 time intervals/channels before downloading: NEEDS_DOWNLOADING\n",
      "[2025-02-07 10:53:40,331] - obspy.clients.fdsn.mass_downloader - INFO: Client 'ORFEUS' - Successfully downloaded 1 channels (of 1)\n",
      "[2025-02-07 10:53:42,405] - obspy.clients.fdsn.mass_downloader - INFO: Client 'ORFEUS' - Successfully downloaded 1 channels (of 1)\n",
      "[2025-02-07 10:53:42,468] - obspy.clients.fdsn.mass_downloader - INFO: Client 'ORFEUS' - Successfully downloaded 1 channels (of 1)\n",
      "[2025-02-07 10:53:42,472] - obspy.clients.fdsn.mass_downloader - INFO: Client 'ORFEUS' - Launching basic QC checks...\n",
      "[2025-02-07 10:53:42,731] - obspy.clients.fdsn.mass_downloader - INFO: Client 'ORFEUS' - Downloaded 30.7 MB [1791.04 KB/sec] of data, 0.0 MB of which were discarded afterwards.\n",
      "[2025-02-07 10:53:42,732] - obspy.clients.fdsn.mass_downloader - INFO: Client 'ORFEUS' - Status for 3 time intervals/channels after downloading: DOWNLOADED\n",
      "[2025-02-07 10:53:43,068] - obspy.clients.fdsn.mass_downloader - INFO: Client 'ORFEUS' - Successfully downloaded 'DATA/MSEED\\BE.UCC.xml'.\n",
      "[2025-02-07 10:53:43,101] - obspy.clients.fdsn.mass_downloader - INFO: Client 'ORFEUS' - Downloaded 1 station files [0.1 MB] in 0.3 seconds [179.09 KB/sec].\n",
      "[2025-02-07 10:53:43,107] - obspy.clients.fdsn.mass_downloader - INFO: Total acquired or preexisting stations: 1\n",
      "[2025-02-07 10:53:43,108] - obspy.clients.fdsn.mass_downloader - INFO: Client 'IRIS' - Requesting reliable availability.\n",
      "[2025-02-07 10:53:43,550] - obspy.clients.fdsn.mass_downloader - INFO: Client 'IRIS' - Successfully requested availability (0.44 seconds)\n",
      "[2025-02-07 10:53:43,552] - obspy.clients.fdsn.mass_downloader - INFO: Client 'IRIS' - Found 1 stations (3 channels).\n",
      "[2025-02-07 10:53:43,553] - obspy.clients.fdsn.mass_downloader - INFO: Client 'IRIS' - No new data available after discarding already downloaded data.\n",
      "[2025-02-07 10:53:43,554] - obspy.clients.fdsn.mass_downloader - INFO: ============================== Final report\n",
      "[2025-02-07 10:53:43,556] - obspy.clients.fdsn.mass_downloader - INFO: 0 MiniSEED files [0.0 MB] already existed.\n",
      "[2025-02-07 10:53:43,557] - obspy.clients.fdsn.mass_downloader - INFO: 0 StationXML files [0.0 MB] already existed.\n",
      "[2025-02-07 10:53:43,561] - obspy.clients.fdsn.mass_downloader - INFO: Client 'ORFEUS' - Acquired 3 MiniSEED files [30.7 MB].\n",
      "[2025-02-07 10:53:43,563] - obspy.clients.fdsn.mass_downloader - INFO: Client 'ORFEUS' - Acquired 1 StationXML files [0.1 MB].\n",
      "[2025-02-07 10:53:43,564] - obspy.clients.fdsn.mass_downloader - INFO: Client 'IRIS' - Acquired 0 MiniSEED files [0.0 MB].\n",
      "[2025-02-07 10:53:43,565] - obspy.clients.fdsn.mass_downloader - INFO: Client 'IRIS' - Acquired 0 StationXML files [0.0 MB].\n",
      "[2025-02-07 10:53:43,567] - obspy.clients.fdsn.mass_downloader - INFO: Downloaded 30.8 MB in total.\n"
     ]
    },
    {
     "data": {
      "text/plain": [
       "{'ORFEUS': <obspy.clients.fdsn.mass_downloader.download_helpers.ClientDownloadHelper at 0x14feb3fc4d0>,\n",
       " 'IRIS': <obspy.clients.fdsn.mass_downloader.download_helpers.ClientDownloadHelper at 0x14fec42cd40>}"
      ]
     },
     "execution_count": 5,
     "metadata": {},
     "output_type": "execute_result"
    }
   ],
   "source": [
    "mdl = MassDownloader(providers=clients)\n",
    "mdl.download(domain, restrictions, mseed_storage=\"DATA/MSEED\",\n",
    "             stationxml_storage=\"DATA/MSEED\")"
   ]
  },
  {
   "cell_type": "code",
   "execution_count": null,
   "id": "59445e63-fa94-4eef-9294-56a14833e0f5",
   "metadata": {},
   "outputs": [],
   "source": []
  }
 ],
 "metadata": {
  "kernelspec": {
   "display_name": "seismo_env",
   "language": "python",
   "name": "python3"
  },
  "language_info": {
   "codemirror_mode": {
    "name": "ipython",
    "version": 3
   },
   "file_extension": ".py",
   "mimetype": "text/x-python",
   "name": "python",
   "nbconvert_exporter": "python",
   "pygments_lexer": "ipython3",
   "version": "3.12.3"
  }
 },
 "nbformat": 4,
 "nbformat_minor": 5
}

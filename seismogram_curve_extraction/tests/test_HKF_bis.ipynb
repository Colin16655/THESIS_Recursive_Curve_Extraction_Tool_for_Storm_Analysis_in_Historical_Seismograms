{
 "cells": [
  {
   "cell_type": "markdown",
   "metadata": {},
   "source": [
    "# Test the pipeline with the Hungarian Kalman Filter (WKF)."
   ]
  },
  {
   "cell_type": "code",
   "execution_count": 1,
   "metadata": {},
   "outputs": [],
   "source": [
    "import os\n",
    "import numpy as np\n",
    "import torch\n",
    "import cv2\n",
    "from torch.utils.data import DataLoader\n",
    "import sys\n",
    "import matplotlib.pyplot as plt\n",
    "\n",
    "# Get the path of the project root\n",
    "project_root = os.path.abspath(os.path.join(os.path.dirname('__file__'), '..'))\n",
    "\n",
    "# Add the project root to sys.path if it is not already in sys.path\n",
    "if project_root not in sys.path:\n",
    "    sys.path.append(project_root)\n",
    "\n",
    "# Import the ImageSequenceDataset and create_dataloader from the pipeline module\n",
    "from seismogram_extraction.pipeline import evaluate_filter, create_dataloader\n",
    "from seismogram_extraction.filters.hungarian_kalman_filter_bis import HungarianKalmanFilterBis\n",
    "\n",
    "import torch.multiprocessing as mp"
   ]
  },
  {
   "cell_type": "code",
   "execution_count": 2,
   "metadata": {},
   "outputs": [
    {
     "name": "stderr",
     "output_type": "stream",
     "text": [
      "Batches:  33%|███▎      | 1/3 [00:11<00:22, 11.44s/it]"
     ]
    },
    {
     "name": "stdout",
     "output_type": "stream",
     "text": [
      "\n",
      "MSE of the batch 0: 932.1687416848017\n"
     ]
    },
    {
     "name": "stderr",
     "output_type": "stream",
     "text": [
      "Batches:  67%|██████▋   | 2/3 [00:15<00:06,  6.99s/it]"
     ]
    },
    {
     "name": "stdout",
     "output_type": "stream",
     "text": [
      "\n",
      "MSE of the batch 1: 4325.733234072735\n"
     ]
    },
    {
     "name": "stderr",
     "output_type": "stream",
     "text": [
      "Batches: 100%|██████████| 3/3 [00:17<00:00,  4.69s/it]"
     ]
    },
    {
     "name": "stdout",
     "output_type": "stream",
     "text": [
      "\n",
      "MSE of the batch 2: 1505.9522413148165\n"
     ]
    },
    {
     "name": "stderr",
     "output_type": "stream",
     "text": [
      "Batches: 100%|██████████| 3/3 [00:18<00:00,  6.11s/it]"
     ]
    },
    {
     "name": "stdout",
     "output_type": "stream",
     "text": [
      "Total Average MSE: 2254.618072357451\n",
      "Std: 1483.115051937894\n"
     ]
    },
    {
     "name": "stderr",
     "output_type": "stream",
     "text": [
      "\n"
     ]
    },
    {
     "data": {
      "text/plain": [
       "(2254.618072357451, 2254.618072357451, 1483.115051937894)"
      ]
     },
     "execution_count": 2,
     "metadata": {},
     "output_type": "execute_result"
    }
   ],
   "source": [
    "mp.set_start_method('spawn')  # or 'forkserver' if available\n",
    "\n",
    "### Parameters\n",
    "Dt = 0.005 # np.linspace(0.5, 5, 2) # Time step related to the state transition matrix A, ! different than sampling rate dt of signal s\n",
    "\n",
    "# Assuming no process noise\n",
    "sigma_p = 1 # np.linspace(1e-2, 2, 2) \n",
    "sigma_v = 0.8 # np.linspace(1e-2, 2, 2)\n",
    "sigma_a = 0.8 # np.linspace(1e-2, 2, 2)\n",
    "\n",
    "# Assuming no measurement noise\n",
    "sigma_z = 0.5 # np.linspace(1e-6, 1, 5)\n",
    "\n",
    "source = r\"D:\\Courses\\Uclouvain\\thesis\\code\\thesis_Colin\\seismogram_curve_extraction\\data\\sines\\overlap_0-0\"\n",
    "###\n",
    "\n",
    "A = np.array([[1, Dt, Dt],\n",
    "              [0, 1, Dt], \n",
    "              [0, 0, 1]]).astype(np.float64)\n",
    "                        \n",
    "H = np.array([[1, 0, 0]]).astype(np.float64)\n",
    "\n",
    "Q = np.array([[sigma_p**2, 0, 0],\n",
    "              [0, sigma_v**2, 0],\n",
    "              [0, 0, sigma_a**2]])\n",
    "\n",
    "R = np.array([[sigma_z**2]])\n",
    "\n",
    "# Initial state covariance given all_x_0\n",
    "P = np.zeros((3, 3))\n",
    "P[1, 1] = 10\n",
    "P[2, 2] = 10\n",
    "\n",
    "image_folder_path = source + r\"\\signals\"\n",
    "GTs_folder_path = source + r\"\\ground_truth\"\n",
    "    \n",
    "dataloader = create_dataloader(image_folder_path, GTs_folder_path, batch_size=4)\n",
    "\n",
    "output_folder_path = source + r\"\\processed_HKF_bis\"\n",
    "os.makedirs(output_folder_path, exist_ok=True)\n",
    "    \n",
    "evaluate_filter(image_folder_path, GTs_folder_path, output_folder_path, HungarianKalmanFilterBis(A, H, Q, R))"
   ]
  }
 ],
 "metadata": {
  "kernelspec": {
   "display_name": "seismo_env",
   "language": "python",
   "name": "python3"
  },
  "language_info": {
   "codemirror_mode": {
    "name": "ipython",
    "version": 3
   },
   "file_extension": ".py",
   "mimetype": "text/x-python",
   "name": "python",
   "nbconvert_exporter": "python",
   "pygments_lexer": "ipython3",
   "version": "3.12.3"
  }
 },
 "nbformat": 4,
 "nbformat_minor": 2
}

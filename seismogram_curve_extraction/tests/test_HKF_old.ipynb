{
 "cells": [
  {
   "cell_type": "markdown",
   "metadata": {},
   "source": [
    "# Test the pipeline with the Hungarian Kalman Filter (WKF)."
   ]
  },
  {
   "cell_type": "code",
   "execution_count": null,
   "metadata": {},
   "outputs": [],
   "source": [
    "import os\n",
    "import numpy as np\n",
    "import torch\n",
    "import cv2\n",
    "from torch.utils.data import DataLoader\n",
    "import sys\n",
    "import matplotlib.pyplot as plt\n",
    "\n",
    "# Get the path of the project root\n",
    "project_root = os.path.abspath(os.path.join(os.path.dirname('__file__'), '..'))\n",
    "\n",
    "# Add the project root to sys.path if it is not already in sys.path\n",
    "if project_root not in sys.path:\n",
    "    sys.path.append(project_root)\n",
    "\n",
    "# Import the ImageSequenceDataset and create_dataloader from the pipeline module\n",
    "from seismogram_extraction.pipeline import evaluate_filter, create_dataloader\n",
    "from seismogram_extraction.filters.hungarian_kalman_filter_old import HungarianKalmanFilter\n",
    "\n",
    "import torch.multiprocessing as mp"
   ]
  },
  {
   "cell_type": "code",
   "execution_count": null,
   "metadata": {},
   "outputs": [
    {
     "name": "stdout",
     "output_type": "stream",
     "text": [
      "Parameters: Dt=0.005, sigma_p=1, sigma_v=0.8, P_v=10, max_gap=10\n"
     ]
    },
    {
     "ename": "TypeError",
     "evalue": "HungarianKalmanFilter.process_sequence() got an unexpected keyword argument 'step'",
     "output_type": "error",
     "traceback": [
      "\u001b[1;31m---------------------------------------------------------------------------\u001b[0m",
      "\u001b[1;31mTypeError\u001b[0m                                 Traceback (most recent call last)",
      "Cell \u001b[1;32mIn[2], line 45\u001b[0m\n\u001b[0;32m     42\u001b[0m P[\u001b[38;5;241m1\u001b[39m, \u001b[38;5;241m1\u001b[39m] \u001b[38;5;241m=\u001b[39m P_v\n\u001b[0;32m     44\u001b[0m \u001b[38;5;28mprint\u001b[39m(\u001b[38;5;124mf\u001b[39m\u001b[38;5;124m\"\u001b[39m\u001b[38;5;124mParameters: Dt=\u001b[39m\u001b[38;5;132;01m{\u001b[39;00mDt\u001b[38;5;132;01m}\u001b[39;00m\u001b[38;5;124m, sigma_p=\u001b[39m\u001b[38;5;132;01m{\u001b[39;00msigma_p\u001b[38;5;132;01m}\u001b[39;00m\u001b[38;5;124m, sigma_v=\u001b[39m\u001b[38;5;132;01m{\u001b[39;00msigma_v\u001b[38;5;132;01m}\u001b[39;00m\u001b[38;5;124m, P_v=\u001b[39m\u001b[38;5;132;01m{\u001b[39;00mP_v\u001b[38;5;132;01m}\u001b[39;00m\u001b[38;5;124m, max_gap=\u001b[39m\u001b[38;5;132;01m{\u001b[39;00mmax_gap\u001b[38;5;132;01m}\u001b[39;00m\u001b[38;5;124m\"\u001b[39m)\n\u001b[1;32m---> 45\u001b[0m MSE1, MSE2, MSE_std \u001b[38;5;241m=\u001b[39m \u001b[43mevaluate_filter\u001b[49m\u001b[43m(\u001b[49m\u001b[43mimage_folder_path\u001b[49m\u001b[43m,\u001b[49m\u001b[43m \u001b[49m\u001b[43mGTs_folder_path\u001b[49m\u001b[43m,\u001b[49m\u001b[43m \u001b[49m\u001b[43moutput_folder_path\u001b[49m\u001b[43m,\u001b[49m\u001b[43m \u001b[49m\u001b[43mHungarianKalmanFilter\u001b[49m\u001b[43m(\u001b[49m\u001b[43mA\u001b[49m\u001b[43m,\u001b[49m\u001b[43m \u001b[49m\u001b[43mH\u001b[49m\u001b[43m,\u001b[49m\u001b[43m \u001b[49m\u001b[43mQ\u001b[49m\u001b[43m)\u001b[49m\u001b[43m,\u001b[49m\u001b[43m \u001b[49m\u001b[43msave\u001b[49m\u001b[38;5;241;43m=\u001b[39;49m\u001b[38;5;28;43;01mTrue\u001b[39;49;00m\u001b[43m)\u001b[49m\n\u001b[0;32m     46\u001b[0m \u001b[38;5;28mprint\u001b[39m()\n\u001b[0;32m     48\u001b[0m \u001b[38;5;28;01mif\u001b[39;00m MSE1 \u001b[38;5;241m-\u001b[39m MSE2 \u001b[38;5;241m!=\u001b[39m \u001b[38;5;241m0\u001b[39m: \u001b[38;5;28mprint\u001b[39m(\u001b[38;5;124mf\u001b[39m\u001b[38;5;124m\"\u001b[39m\u001b[38;5;124mMSE1=\u001b[39m\u001b[38;5;132;01m{\u001b[39;00mMSE1\u001b[38;5;132;01m}\u001b[39;00m\u001b[38;5;124m, MSE2=\u001b[39m\u001b[38;5;132;01m{\u001b[39;00mMSE2\u001b[38;5;132;01m}\u001b[39;00m\u001b[38;5;124m, MSE_std=\u001b[39m\u001b[38;5;132;01m{\u001b[39;00mMSE_std\u001b[38;5;132;01m}\u001b[39;00m\u001b[38;5;124m\"\u001b[39m)\n",
      "File \u001b[1;32md:\\Courses\\Uclouvain\\thesis\\code\\thesis_Colin\\seismogram_curve_extraction\\seismogram_extraction\\pipeline.py:116\u001b[0m, in \u001b[0;36mevaluate_filter\u001b[1;34m(images_folder_path, gt_s_folder_path, output_folder_path, processing_method, batch_size, save, step)\u001b[0m\n\u001b[0;32m    114\u001b[0m P_0 \u001b[38;5;241m=\u001b[39m np\u001b[38;5;241m.\u001b[39mzeros((\u001b[38;5;28mlen\u001b[39m(images), N_traces, \u001b[38;5;28mlen\u001b[39m(processing_method\u001b[38;5;241m.\u001b[39mA), \u001b[38;5;28mlen\u001b[39m(processing_method\u001b[38;5;241m.\u001b[39mA)))\n\u001b[0;32m    115\u001b[0m P_0[:, :, \u001b[38;5;241m1\u001b[39m, \u001b[38;5;241m1\u001b[39m] \u001b[38;5;241m=\u001b[39m \u001b[38;5;241m10\u001b[39m\n\u001b[1;32m--> 116\u001b[0m X_batch_pred, P_batch_pred \u001b[38;5;241m=\u001b[39m \u001b[43mprocessing_method\u001b[49m\u001b[38;5;241;43m.\u001b[39;49m\u001b[43mprocess_sequence\u001b[49m\u001b[43m(\u001b[49m\u001b[43mimages\u001b[49m\u001b[38;5;241;43m.\u001b[39;49m\u001b[43mnumpy\u001b[49m\u001b[43m(\u001b[49m\u001b[43m)\u001b[49m\u001b[43m,\u001b[49m\u001b[43m \u001b[49m\u001b[43mX_0\u001b[49m\u001b[43m,\u001b[49m\u001b[43m \u001b[49m\u001b[43mP_0\u001b[49m\u001b[43m,\u001b[49m\u001b[43m \u001b[49m\u001b[43mstep\u001b[49m\u001b[38;5;241;43m=\u001b[39;49m\u001b[43mstep\u001b[49m\u001b[43m)\u001b[49m\n\u001b[0;32m    117\u001b[0m ground_truths \u001b[38;5;241m=\u001b[39m ground_truths\u001b[38;5;241m.\u001b[39mnumpy()\u001b[38;5;241m.\u001b[39mtranspose(\u001b[38;5;241m0\u001b[39m, \u001b[38;5;241m2\u001b[39m, \u001b[38;5;241m1\u001b[39m)\n\u001b[0;32m    119\u001b[0m total_RMSE \u001b[38;5;241m=\u001b[39m \u001b[38;5;241m0\u001b[39m\n",
      "\u001b[1;31mTypeError\u001b[0m: HungarianKalmanFilter.process_sequence() got an unexpected keyword argument 'step'"
     ]
    }
   ],
   "source": [
    "mp.set_start_method('spawn')  # or 'forkserver' if available\n",
    "\n",
    "### Parameters\n",
    "Dts = [0.005, 0.01, 0.1, 1] #np.linspace(0.005, 1, 1) # Time step related to the state transition matrix A, ! different than sampling rate dt of signal s\n",
    "\n",
    "sigma_ps = [1e-2, 1e-1, 1] # np.linspace(1e-2, 2, 1) \n",
    "sigma_vs = [0.8] # np.linspace(1e-2, 2, 1)\n",
    "# sigma_a = np.linspace(1e-2, 2, 1)\n",
    "\n",
    "P_vs = [10] # np.linspace(1e-2, 10, 1) # Initial state covariance\n",
    "max_gaps = [10]\n",
    "###\n",
    "\n",
    "image_folder_path = r\"D:\\Courses\\Uclouvain\\thesis\\code\\thesis_Colin\\seismogram_curve_extraction\\data\\sines\\overlap_0-28\\signals\"\n",
    "GTs_folder_path = r\"D:\\Courses\\Uclouvain\\thesis\\code\\thesis_Colin\\seismogram_curve_extraction\\data\\sines\\overlap_0-28\\ground_truth\"\n",
    "    \n",
    "dataloader = create_dataloader(image_folder_path, GTs_folder_path, batch_size=4)\n",
    "\n",
    "output_folder_path = r\"D:\\Courses\\Uclouvain\\thesis\\code\\thesis_Colin\\seismogram_curve_extraction\\data\\sines\\overlap_0-28\\processed_HKF\"\n",
    "os.makedirs(output_folder_path, exist_ok=True)\n",
    "\n",
    "best_parameters = None\n",
    "min_MSE = float('inf')\n",
    "\n",
    "for Dt in Dts:\n",
    "    for sigma_p in sigma_ps:\n",
    "        for sigma_v in sigma_vs:\n",
    "            for P_v in P_vs:\n",
    "                for max_gap in max_gaps:\n",
    "\n",
    "                    A = np.array([[1, Dt],\n",
    "                                [0, 1]]).astype(np.float64)\n",
    "                                            \n",
    "                    H = np.array([[1, 0]]).astype(np.float64)\n",
    "\n",
    "                    Q = np.array([[sigma_p**2, 0],\n",
    "                                [0, sigma_v**2]])\n",
    "\n",
    "\n",
    "                    # Initial state covariance given all_x_0\n",
    "                    P = np.zeros((2, 2))\n",
    "                    P[1, 1] = P_v\n",
    "\n",
    "                    print(f\"Parameters: Dt={Dt}, sigma_p={sigma_p}, sigma_v={sigma_v}, P_v={P_v}, max_gap={max_gap}\")\n",
    "                    MSE1, MSE2, MSE_std = evaluate_filter(image_folder_path, GTs_folder_path, output_folder_path, HungarianKalmanFilter(A, H, Q), save=True)\n",
    "                    print()\n",
    "\n",
    "                    if MSE1 - MSE2 != 0: print(f\"MSE1={MSE1}, MSE2={MSE2}, MSE_std={MSE_std}\")\n",
    "                    if MSE1 < min_MSE:\n",
    "                        min_MSE = MSE1\n",
    "                        best_parameters = (Dt, sigma_p, sigma_v, P_v, max_gap)\n",
    "\n",
    "print(f\"Best parameters: {best_parameters}, MSE={min_MSE}\")"
   ]
  }
 ],
 "metadata": {
  "kernelspec": {
   "display_name": "seismo_env",
   "language": "python",
   "name": "python3"
  },
  "language_info": {
   "codemirror_mode": {
    "name": "ipython",
    "version": 3
   },
   "file_extension": ".py",
   "mimetype": "text/x-python",
   "name": "python",
   "nbconvert_exporter": "python",
   "pygments_lexer": "ipython3",
   "version": "3.12.3"
  }
 },
 "nbformat": 4,
 "nbformat_minor": 2
}

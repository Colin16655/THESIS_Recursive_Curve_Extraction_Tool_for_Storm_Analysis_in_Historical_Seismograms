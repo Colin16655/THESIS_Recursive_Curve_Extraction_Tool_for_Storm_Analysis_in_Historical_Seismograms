{
 "cells": [
  {
   "cell_type": "markdown",
   "metadata": {},
   "source": [
    "# Test the pipeline with the Weighted Kalman Filter (WKF)."
   ]
  },
  {
   "cell_type": "code",
   "execution_count": 2,
   "metadata": {},
   "outputs": [],
   "source": [
    "import os\n",
    "import numpy as np\n",
    "import torch\n",
    "import cv2\n",
    "from torch.utils.data import DataLoader\n",
    "import sys\n",
    "import matplotlib.pyplot as plt\n",
    "\n",
    "# Get the path of the project root\n",
    "project_root = os.path.abspath(os.path.join(os.path.dirname('__file__'), '..'))\n",
    "\n",
    "# Add the project root to sys.path if it is not already in sys.path\n",
    "if project_root not in sys.path:\n",
    "    sys.path.append(project_root)\n",
    "\n",
    "# Import the ImageSequenceDataset and create_dataloader from the pipeline module\n",
    "from seismogram_extraction.pipeline import evaluate_filter, create_dataloader\n",
    "from seismogram_extraction.filters.weighted_kalman_filter import WeightedKalmanFilter\n",
    "\n",
    "import torch.multiprocessing as mp"
   ]
  },
  {
   "cell_type": "code",
   "execution_count": null,
   "metadata": {},
   "outputs": [
    {
     "name": "stderr",
     "output_type": "stream",
     "text": [
      "Batches:  33%|███▎      | 1/3 [00:24<00:49, 24.63s/it]"
     ]
    },
    {
     "name": "stdout",
     "output_type": "stream",
     "text": [
      "\n",
      "MSE of the batch 0: 2038.3987504311115\n"
     ]
    },
    {
     "name": "stderr",
     "output_type": "stream",
     "text": [
      "Batches:  67%|██████▋   | 2/3 [00:39<00:18, 18.74s/it]"
     ]
    },
    {
     "name": "stdout",
     "output_type": "stream",
     "text": [
      "\n",
      "MSE of the batch 1: 1388.121706288917\n"
     ]
    },
    {
     "name": "stderr",
     "output_type": "stream",
     "text": [
      "Batches: 100%|██████████| 3/3 [00:47<00:00, 13.83s/it]"
     ]
    },
    {
     "name": "stdout",
     "output_type": "stream",
     "text": [
      "\n",
      "MSE of the batch 2: 1889.0018356844876\n"
     ]
    },
    {
     "name": "stderr",
     "output_type": "stream",
     "text": [
      "Batches: 100%|██████████| 3/3 [00:48<00:00, 16.11s/it]"
     ]
    },
    {
     "name": "stdout",
     "output_type": "stream",
     "text": [
      "\n",
      "-------------------------------\n",
      "\n",
      "Total Average MSE: 1771.8407641348385\n",
      "Std: 278.1008163113679\n",
      "\n",
      "-------------------------------\n",
      "\n"
     ]
    },
    {
     "name": "stderr",
     "output_type": "stream",
     "text": [
      "\n"
     ]
    }
   ],
   "source": [
    "mp.set_start_method('spawn')  # or 'forkserver' if available\n",
    "\n",
    "### Parameters\n",
    "Dt = 0.5 # np.linspace(0.5, 5, 2) # Time step related to the state transition matrix A, ! different than sampling rate dt of signal s\n",
    "\n",
    "# Assuming no process noise\n",
    "sigma_p = 0.01 # np.linspace(1e-2, 2, 2) \n",
    "sigma_v = 2 # np.linspace(1e-2, 2, 2)\n",
    "\n",
    "# Assuming no measurement noise\n",
    "sigma_z = 0.25 # np.linspace(1e-6, 1, 5)\n",
    "\n",
    "p_fa = 0.0001 # np.linspace(1e-4, 1, 5)\n",
    "###\n",
    "\n",
    "A = np.array([[1, Dt],\n",
    "              [0, 1]]).astype(np.float64)\n",
    "                        \n",
    "H = np.array([[1, 0]]).astype(np.float64)\n",
    "\n",
    "Q = np.array([[sigma_p**2, 0],\n",
    "              [0, sigma_v**2]])\n",
    "\n",
    "R = np.array([[sigma_z**2]])\n",
    "\n",
    "# Initial state covariance given all_x_0\n",
    "P = np.zeros((2, 2))\n",
    "P[1, 1] = 10\n",
    "\n",
    "image_folder_path = r\"D:\\Courses\\Uclouvain\\thesis\\code\\thesis_Colin\\seismogram_curve_extraction\\data\\sines\\overlap_0-0\\signals\"\n",
    "GTs_folder_path = r\"D:\\Courses\\Uclouvain\\thesis\\code\\thesis_Colin\\seismogram_curve_extraction\\data\\sines\\overlap_0-0\\ground_truth\"\n",
    "    \n",
    "dataloader = create_dataloader(image_folder_path, GTs_folder_path, batch_size=4)\n",
    "\n",
    "output_folder_path = r\"D:\\Courses\\Uclouvain\\thesis\\code\\thesis_Colin\\seismogram_curve_extraction\\data\\sines\\overlap_0-0\\processed_WKF\"\n",
    "os.makedirs(output_folder_path, exist_ok=True)\n",
    "    \n",
    "evaluate_filter(image_folder_path, GTs_folder_path, output_folder_path, WeightedKalmanFilter(A, H, Q, R, p_fa))\n"
   ]
  }
 ],
 "metadata": {
  "kernelspec": {
   "display_name": "seismo_env",
   "language": "python",
   "name": "python3"
  },
  "language_info": {
   "codemirror_mode": {
    "name": "ipython",
    "version": 3
   },
   "file_extension": ".py",
   "mimetype": "text/x-python",
   "name": "python",
   "nbconvert_exporter": "python",
   "pygments_lexer": "ipython3",
   "version": "3.12.3"
  }
 },
 "nbformat": 4,
 "nbformat_minor": 2
}

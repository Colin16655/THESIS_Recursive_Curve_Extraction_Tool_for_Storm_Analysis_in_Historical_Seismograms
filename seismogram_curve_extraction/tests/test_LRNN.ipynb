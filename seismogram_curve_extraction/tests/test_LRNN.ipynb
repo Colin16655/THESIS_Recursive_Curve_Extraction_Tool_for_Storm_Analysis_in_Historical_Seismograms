{
 "cells": [
  {
   "cell_type": "markdown",
   "metadata": {},
   "source": [
    "# Test the pipeline with the Hungarian Kalman Filter (WKF)."
   ]
  },
  {
   "cell_type": "code",
   "execution_count": 1,
   "metadata": {},
   "outputs": [],
   "source": [
    "import os\n",
    "import numpy as np\n",
    "import torch\n",
    "import cv2\n",
    "from torch.utils.data import DataLoader\n",
    "import sys\n",
    "import matplotlib.pyplot as plt\n",
    "\n",
    "# Get the path of the project root\n",
    "project_root = os.path.abspath(os.path.join(os.path.dirname('__file__'), '..'))\n",
    "\n",
    "# Add the project root to sys.path if it is not already in sys.path\n",
    "if project_root not in sys.path:\n",
    "    sys.path.append(project_root)\n",
    "\n",
    "# Import the ImageSequenceDataset and create_dataloader from the pipeline module\n",
    "from seismogram_extraction.pipeline import evaluate_filter, create_dataloader\n",
    "from seismogram_extraction.models.lrnn import HungarianLRNN\n",
    "\n",
    "import torch.multiprocessing as mp"
   ]
  },
  {
   "cell_type": "code",
   "execution_count": null,
   "metadata": {},
   "outputs": [
    {
     "ename": "AttributeError",
     "evalue": "'list' object has no attribute 'shape'",
     "output_type": "error",
     "traceback": [
      "\u001b[1;31m---------------------------------------------------------------------------\u001b[0m",
      "\u001b[1;31mAttributeError\u001b[0m                            Traceback (most recent call last)",
      "Cell \u001b[1;32mIn[2], line 36\u001b[0m\n\u001b[0;32m     33\u001b[0m GTs_folder_path \u001b[38;5;241m=\u001b[39m \u001b[38;5;124mr\u001b[39m\u001b[38;5;124m\"\u001b[39m\u001b[38;5;124mD:\u001b[39m\u001b[38;5;124m\\\u001b[39m\u001b[38;5;124mCourses\u001b[39m\u001b[38;5;124m\\\u001b[39m\u001b[38;5;124mUclouvain\u001b[39m\u001b[38;5;124m\\\u001b[39m\u001b[38;5;124mthesis\u001b[39m\u001b[38;5;124m\\\u001b[39m\u001b[38;5;124mcode\u001b[39m\u001b[38;5;124m\\\u001b[39m\u001b[38;5;124mthesis_Colin\u001b[39m\u001b[38;5;124m\\\u001b[39m\u001b[38;5;124mseismogram_curve_extraction\u001b[39m\u001b[38;5;124m\\\u001b[39m\u001b[38;5;124mdata\u001b[39m\u001b[38;5;124m\\\u001b[39m\u001b[38;5;124msines\u001b[39m\u001b[38;5;124m\\\u001b[39m\u001b[38;5;124moverlap_0-0\u001b[39m\u001b[38;5;124m\\\u001b[39m\u001b[38;5;124mground_truth\u001b[39m\u001b[38;5;124m\"\u001b[39m\n\u001b[0;32m     35\u001b[0m dataloader \u001b[38;5;241m=\u001b[39m create_dataloader(image_folder_path, GTs_folder_path, batch_size\u001b[38;5;241m=\u001b[39m\u001b[38;5;241m4\u001b[39m)\n\u001b[1;32m---> 36\u001b[0m \u001b[38;5;28;01mfor\u001b[39;00m data \u001b[38;5;129;01min\u001b[39;00m dataloader: \u001b[38;5;28mprint\u001b[39m(data\u001b[38;5;241m.\u001b[39mshape)\n\u001b[0;32m     38\u001b[0m \u001b[38;5;66;03m# output_folder_path = r\"D:\\Courses\\Uclouvain\\thesis\\code\\thesis_Colin\\seismogram_curve_extraction\\data\\sines\\overlap_0-0\\processed_HKF\"\u001b[39;00m\n\u001b[0;32m     39\u001b[0m \u001b[38;5;66;03m# os.makedirs(output_folder_path, exist_ok=True)\u001b[39;00m\n\u001b[0;32m     40\u001b[0m     \n\u001b[0;32m     41\u001b[0m \u001b[38;5;66;03m# evaluate_filter(image_folder_path, GTs_folder_path, output_folder_path, HungarianKalmanFilter(A, H, Q, R))\u001b[39;00m\n",
      "\u001b[1;31mAttributeError\u001b[0m: 'list' object has no attribute 'shape'"
     ]
    }
   ],
   "source": [
    "mp.set_start_method('spawn')  # or 'forkserver' if available\n",
    "\n",
    "### Parameters\n",
    "Dt = 0.01 # np.linspace(0.5, 5, 2) # Time step related to the state transition matrix A, ! different than sampling rate dt of signal s\n",
    "\n",
    "# Assuming no process noise\n",
    "sigma_p = 2 # np.linspace(1e-2, 2, 2) \n",
    "sigma_v = 0.0001 # np.linspace(1e-2, 2, 2)\n",
    "sigma_a = 0.0001 # np.linspace(1e-2, 2, 2)\n",
    "\n",
    "# Assuming no measurement noise\n",
    "sigma_z = 0.5 # np.linspace(1e-6, 1, 5)\n",
    "###\n",
    "\n",
    "A = np.array([[1, Dt, Dt],\n",
    "              [0, 1, Dt], \n",
    "              [0, 0, 1]]).astype(np.float64)\n",
    "                        \n",
    "H = np.array([[1, 0, 0]]).astype(np.float64)\n",
    "\n",
    "Q = np.array([[sigma_p**2, 0, 0],\n",
    "              [0, sigma_v**2, 0],\n",
    "              [0, 0, sigma_a**2]])\n",
    "\n",
    "R = np.array([[sigma_z**2]])\n",
    "\n",
    "# Initial state covariance given all_x_0\n",
    "P = np.zeros((3, 3))\n",
    "P[1, 1] = 10\n",
    "P[2, 2] = 10\n",
    "\n",
    "image_folder_path = r\"D:\\Courses\\Uclouvain\\thesis\\code\\thesis_Colin\\seismogram_curve_extraction\\data\\sines\\overlap_0-0\\signals\"\n",
    "GTs_folder_path = r\"D:\\Courses\\Uclouvain\\thesis\\code\\thesis_Colin\\seismogram_curve_extraction\\data\\sines\\overlap_0-0\\ground_truth\"\n",
    "    \n",
    "dataloader = create_dataloader(image_folder_path, GTs_folder_path, batch_size=4)\n",
    "for data in dataloader: print(np.array(data).shape)\n",
    "\n",
    "# output_folder_path = r\"D:\\Courses\\Uclouvain\\thesis\\code\\thesis_Colin\\seismogram_curve_extraction\\data\\sines\\overlap_0-0\\processed_HKF\"\n",
    "# os.makedirs(output_folder_path, exist_ok=True)\n",
    "    \n",
    "# evaluate_filter(image_folder_path, GTs_folder_path, output_folder_path, HungarianKalmanFilter(A, H, Q, R))\n"
   ]
  },
  {
   "cell_type": "code",
   "execution_count": 4,
   "metadata": {},
   "outputs": [
    {
     "name": "stdout",
     "output_type": "stream",
     "text": [
      "torch.Size([4, 1, 400, 800])\n",
      "torch.Size([4, 5, 800])\n",
      "torch.Size([4, 1, 400, 800])\n",
      "torch.Size([4, 5, 800])\n",
      "torch.Size([2, 1, 400, 800])\n",
      "torch.Size([2, 5, 800])\n"
     ]
    }
   ],
   "source": [
    "for batch_idx, (images, ground_truths) in enumerate(dataloader):\n",
    "    print(images.shape)\n",
    "    print(ground_truths.shape)"
   ]
  }
 ],
 "metadata": {
  "kernelspec": {
   "display_name": "seismo_env",
   "language": "python",
   "name": "python3"
  },
  "language_info": {
   "codemirror_mode": {
    "name": "ipython",
    "version": 3
   },
   "file_extension": ".py",
   "mimetype": "text/x-python",
   "name": "python",
   "nbconvert_exporter": "python",
   "pygments_lexer": "ipython3",
   "version": "3.12.3"
  }
 },
 "nbformat": 4,
 "nbformat_minor": 2
}

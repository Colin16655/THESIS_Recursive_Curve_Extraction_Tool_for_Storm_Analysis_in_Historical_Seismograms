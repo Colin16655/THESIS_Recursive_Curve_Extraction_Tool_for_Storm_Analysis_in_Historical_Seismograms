{
 "cells": [
  {
   "cell_type": "markdown",
   "metadata": {},
   "source": [
    "# Test the pipeline with the Hungarian Kalman Filter (WKF)."
   ]
  },
  {
   "cell_type": "code",
   "execution_count": 1,
   "metadata": {},
   "outputs": [],
   "source": [
    "import os\n",
    "import numpy as np\n",
    "import torch\n",
    "import cv2\n",
    "from torch.utils.data import DataLoader\n",
    "import sys\n",
    "import matplotlib.pyplot as plt\n",
    "\n",
    "# Get the path of the project root\n",
    "project_root = os.path.abspath(os.path.join(os.path.dirname('__file__'), '..'))\n",
    "\n",
    "# Add the project root to sys.path if it is not already in sys.path\n",
    "if project_root not in sys.path:\n",
    "    sys.path.append(project_root)\n",
    "\n",
    "# Import the ImageSequenceDataset and create_dataloader from the pipeline module\n",
    "from seismogram_extraction.pipeline import evaluate_filter, create_dataloader\n",
    "from seismogram_extraction.filters.hungarian_kalman_filter import HungarianKalmanFilter\n",
    "\n",
    "import torch.multiprocessing as mp"
   ]
  },
  {
   "cell_type": "code",
   "execution_count": 2,
   "metadata": {},
   "outputs": [
    {
     "name": "stdout",
     "output_type": "stream",
     "text": [
      "Parameters: Dt=0.005, sigma_p=1, sigma_v=0.8, P_v=10, max_gap=10\n"
     ]
    },
    {
     "name": "stderr",
     "output_type": "stream",
     "text": [
      "Batches:  33%|███▎      | 1/3 [00:12<00:24, 12.43s/it]"
     ]
    },
    {
     "name": "stdout",
     "output_type": "stream",
     "text": [
      "\n",
      "MSE of the batch 0: 933.5458415341822\n"
     ]
    },
    {
     "name": "stderr",
     "output_type": "stream",
     "text": [
      "Batches:  67%|██████▋   | 2/3 [00:17<00:07,  7.92s/it]"
     ]
    },
    {
     "name": "stdout",
     "output_type": "stream",
     "text": [
      "\n",
      "MSE of the batch 1: 2274.075027779619\n"
     ]
    },
    {
     "name": "stderr",
     "output_type": "stream",
     "text": [
      "Batches: 100%|██████████| 3/3 [00:19<00:00,  5.35s/it]"
     ]
    },
    {
     "name": "stdout",
     "output_type": "stream",
     "text": [
      "\n",
      "MSE of the batch 2: 1827.4806147046202\n"
     ]
    },
    {
     "name": "stderr",
     "output_type": "stream",
     "text": [
      "Batches: 100%|██████████| 3/3 [00:20<00:00,  6.88s/it]"
     ]
    },
    {
     "name": "stdout",
     "output_type": "stream",
     "text": [
      "Total Average MSE: 1678.3671613394738\n",
      "Std: 557.3333779554347\n",
      "\n",
      "Best parameters: (0.005, 1, 0.8, 10, 10), MSE=1678.3671613394738\n"
     ]
    },
    {
     "name": "stderr",
     "output_type": "stream",
     "text": [
      "\n"
     ]
    }
   ],
   "source": [
    "mp.set_start_method('spawn')  # or 'forkserver' if available\n",
    "\n",
    "### Parameters\n",
    "Dts = [0.005] #np.linspace(0.005, 1, 1) # Time step related to the state transition matrix A, ! different than sampling rate dt of signal s\n",
    "\n",
    "sigma_ps = [1] # np.linspace(1e-2, 2, 1) \n",
    "sigma_vs = [0.8] # np.linspace(1e-2, 2, 1)\n",
    "# sigma_a = np.linspace(1e-2, 2, 1)\n",
    "\n",
    "P_vs = [10] # np.linspace(1e-2, 10, 1) # Initial state covariance\n",
    "max_gaps = [10]\n",
    "###\n",
    "\n",
    "image_folder_path = r\"D:\\Courses\\Uclouvain\\thesis\\code\\thesis_Colin\\seismogram_curve_extraction\\data\\sines\\overlap_0-28\\signals\"\n",
    "GTs_folder_path = r\"D:\\Courses\\Uclouvain\\thesis\\code\\thesis_Colin\\seismogram_curve_extraction\\data\\sines\\overlap_0-28\\ground_truth\"\n",
    "    \n",
    "dataloader = create_dataloader(image_folder_path, GTs_folder_path, batch_size=4)\n",
    "\n",
    "output_folder_path = r\"D:\\Courses\\Uclouvain\\thesis\\code\\thesis_Colin\\seismogram_curve_extraction\\data\\sines\\overlap_0-28\\processed_HKF\"\n",
    "os.makedirs(output_folder_path, exist_ok=True)\n",
    "\n",
    "best_parameters = None\n",
    "min_MSE = float('inf')\n",
    "\n",
    "for Dt in Dts:\n",
    "    for sigma_p in sigma_ps:\n",
    "        for sigma_v in sigma_vs:\n",
    "            for P_v in P_vs:\n",
    "                for max_gap in max_gaps:\n",
    "\n",
    "                    A = np.array([[1, Dt],\n",
    "                                [0, 1]]).astype(np.float64)\n",
    "                                            \n",
    "                    H = np.array([[1, 0]]).astype(np.float64)\n",
    "\n",
    "                    Q = np.array([[sigma_p**2, 0],\n",
    "                                [0, sigma_v**2]])\n",
    "\n",
    "\n",
    "                    # Initial state covariance given all_x_0\n",
    "                    P = np.zeros((2, 2))\n",
    "                    P[1, 1] = P_v\n",
    "\n",
    "                    print(f\"Parameters: Dt={Dt}, sigma_p={sigma_p}, sigma_v={sigma_v}, P_v={P_v}, max_gap={max_gap}\")\n",
    "                    MSE1, MSE2, MSE_std = evaluate_filter(image_folder_path, GTs_folder_path, output_folder_path, HungarianKalmanFilter(A, H, Q), save=True)\n",
    "                    print()\n",
    "\n",
    "                    if MSE1 - MSE2 != 0: print(f\"MSE1={MSE1}, MSE2={MSE2}, MSE_std={MSE_std}\")\n",
    "                    if MSE1 < min_MSE:\n",
    "                        min_MSE = MSE1\n",
    "                        best_parameters = (Dt, sigma_p, sigma_v, P_v, max_gap)\n",
    "\n",
    "print(f\"Best parameters: {best_parameters}, MSE={min_MSE}\")"
   ]
  }
 ],
 "metadata": {
  "kernelspec": {
   "display_name": "seismo_env",
   "language": "python",
   "name": "python3"
  },
  "language_info": {
   "codemirror_mode": {
    "name": "ipython",
    "version": 3
   },
   "file_extension": ".py",
   "mimetype": "text/x-python",
   "name": "python",
   "nbconvert_exporter": "python",
   "pygments_lexer": "ipython3",
   "version": "3.12.3"
  }
 },
 "nbformat": 4,
 "nbformat_minor": 2
}
